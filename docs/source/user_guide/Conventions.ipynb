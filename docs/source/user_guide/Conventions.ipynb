{
 "cells": [
  {
   "cell_type": "markdown",
   "metadata": {},
   "source": [
    "# Conventions\n",
    "\n",
    "Here, we will outline some of the conventions used by prysm.  These will be useful to understand if extending the library, or performing custom analysis.\n",
    "\n",
    "prysm uses a large number of classes which carry data and metadata about the signals with their namesakes.  They can be divided loosely into two caregories,\n",
    "\n",
    "* phases\n",
    "* images\n",
    "\n",
    "Both have common properties of `unit_x` and `unit_y`, which are one dimensional arrays giving the gridded coordinates in x and y."
   ]
  },
  {
   "cell_type": "code",
   "execution_count": 25,
   "metadata": {},
   "outputs": [
    {
     "data": {
      "text/plain": [
       "(array([-0.5       , -0.49212598, -0.48425197]),\n",
       " array([-2.4       , -2.32380952, -2.24761905]))"
      ]
     },
     "execution_count": 25,
     "metadata": {},
     "output_type": "execute_result"
    }
   ],
   "source": [
    "# an example of a phase-type object and an image-type object\n",
    "from prysm import Pupil, Slit\n",
    "\n",
    "pu = Pupil()\n",
    "sl = Slit(1, sample_spacing=0.075, samples=64)\n",
    "\n",
    "pu.unit_x[:3], sl.unit_y[:3]  # only first three elements for brevity"
   ]
  },
  {
   "cell_type": "markdown",
   "metadata": {},
   "source": [
    "Each has an array that holds the numerical representation of the signal itself, for phaes-type objects this is `phase` and for image-type objects this is `data`.  The convention is `y,x` indices, consistent with numpy.  This is the opposite convention used by matlab."
   ]
  },
  {
   "cell_type": "code",
   "execution_count": 27,
   "metadata": {},
   "outputs": [
    {
     "data": {
      "text/plain": [
       "(array([[nan, nan, nan],\n",
       "        [nan, nan, nan],\n",
       "        [nan, nan, nan]]), array([[0., 0., 0.],\n",
       "        [0., 0., 0.],\n",
       "        [0., 0., 0.]]))"
      ]
     },
     "execution_count": 27,
     "metadata": {},
     "output_type": "execute_result"
    }
   ],
   "source": [
    "pu.phase[:3,:3], sl.data[:3,:3]"
   ]
  },
  {
   "cell_type": "markdown",
   "metadata": {},
   "source": [
    "both inherit from BasicData (in fact, just about every class in prysm does) which imbues them with a brevy of properties:"
   ]
  },
  {
   "cell_type": "code",
   "execution_count": 29,
   "metadata": {},
   "outputs": [
    {
     "name": "stdout",
     "output_type": "stream",
     "text": [
      "Help on class BasicData in module prysm._basicdata:\n",
      "\n",
      "class BasicData(builtins.object)\n",
      " |  Abstract base class holding some data properties.\n",
      " |  \n",
      " |  Data descriptors defined here:\n",
      " |  \n",
      " |  __dict__\n",
      " |      dictionary for instance variables (if defined)\n",
      " |  \n",
      " |  __weakref__\n",
      " |      list of weak references to the object (if defined)\n",
      " |  \n",
      " |  center_x\n",
      " |      Center \"pixel\" in x.\n",
      " |  \n",
      " |  center_y\n",
      " |      Center \"pixel\" in y.\n",
      " |  \n",
      " |  sample_spacing\n",
      " |      center-to-center sample spacing.\n",
      " |  \n",
      " |  samples_x\n",
      " |      Number of samples in the x dimension.\n",
      " |  \n",
      " |  samples_y\n",
      " |      Number of samples in the y dimension.\n",
      " |  \n",
      " |  shape\n",
      " |      Proxy to data shape.\n",
      " |  \n",
      " |  size\n",
      " |      Proxy to data size.\n",
      " |  \n",
      " |  slice_x\n",
      " |      Retrieve a slice through the X axis of the phase.\n",
      " |      \n",
      " |      Returns\n",
      " |      -------\n",
      " |      self.unit : `numpy.ndarray`\n",
      " |          ordinate axis\n",
      " |      slice of self.phase : `numpy.ndarray`\n",
      " |  \n",
      " |  slice_y\n",
      " |      Retrieve a slice through the Y axis of the phase.\n",
      " |      \n",
      " |      Returns\n",
      " |      -------\n",
      " |      self.unit : `numpy.ndarray`\n",
      " |          ordinate axis\n",
      " |      slice of self.phase : `numpy.ndarray`\n",
      "\n"
     ]
    }
   ],
   "source": [
    "from prysm._basicdata import BasicData\n",
    "help(BasicData)"
   ]
  },
  {
   "cell_type": "markdown",
   "metadata": {},
   "source": [
    "prysm is a metadata-heavy library, with many functions and procedures taking a several arguments, most of which populated with sane default values.  A number of these defaults can be controlled through prysm's config object,"
   ]
  },
  {
   "cell_type": "code",
   "execution_count": 30,
   "metadata": {},
   "outputs": [],
   "source": [
    "from prysm import config"
   ]
  },
  {
   "cell_type": "code",
   "execution_count": 33,
   "metadata": {},
   "outputs": [
    {
     "name": "stdout",
     "output_type": "stream",
     "text": [
      "['Q', 'backend', 'chbackend_observers', 'image_colormap', 'lw', 'phase_colormap', 'precision', 'precision_complex', 'zernike_base', 'zorder']\n"
     ]
    }
   ],
   "source": [
    "controlled_properties = [i for i in dir(config) if not i.startswith('_') and not i == 'initialized']\n",
    "print(controlled_properties)"
   ]
  },
  {
   "cell_type": "markdown",
   "metadata": {},
   "source": [
    "To change the value used by prysm, simply assign to the property,"
   ]
  },
  {
   "cell_type": "code",
   "execution_count": 35,
   "metadata": {},
   "outputs": [],
   "source": [
    "# use 32-bit floats instead of 64-bit, ~50% speedup to all operations in exchange for accuracy\n",
    "config.precision = 32"
   ]
  },
  {
   "cell_type": "markdown",
   "metadata": {},
   "source": [
    " "
   ]
  }
 ],
 "metadata": {
  "kernelspec": {
   "display_name": "Python 3",
   "language": "python",
   "name": "python3"
  },
  "language_info": {
   "codemirror_mode": {
    "name": "ipython",
    "version": 3
   },
   "file_extension": ".py",
   "mimetype": "text/x-python",
   "name": "python",
   "nbconvert_exporter": "python",
   "pygments_lexer": "ipython3",
   "version": "3.7.2"
  }
 },
 "nbformat": 4,
 "nbformat_minor": 2
}
