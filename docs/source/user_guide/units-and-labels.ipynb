{
 "cells": [
  {
   "cell_type": "markdown",
   "metadata": {},
   "source": [
    "# Units and Labels\n",
    "\n",
    "prysm tracks units using [astropy.units](https://docs.astropy.org/en/stable/units/), but purposfully avoids `Quantity` objects for arrays, since these are hard-bound to `numpy`, and prysm's backend system allows api-compatible replacements such as [cupy](https://docs-cupy.chainer.org/en/stable/) to be used.  The label system used by prysm allows flexibility override of its default choices for axis labels when [plotting](./plotting.html).\n",
    "\n",
    "We begin by performing some imports:"
   ]
  },
  {
   "cell_type": "code",
   "execution_count": null,
   "metadata": {},
   "outputs": [],
   "source": [
    "%load_ext autoreload\n",
    "%autoreload 2\n",
    "\n",
    "from prysm import Units, Labels, NollZernike, config\n",
    "from prysm import wavelengths as wvl\n",
    "\n",
    "from astropy import units as u\n",
    "\n",
    "from matplotlib import pyplot as plt\n",
    "%matplotlib inline"
   ]
  },
  {
   "cell_type": "markdown",
   "metadata": {},
   "source": [
    "`Units` instances are very simple to create and have just four parameters, `x`, `z`, `y`, and `wavelength`.  The order of `y` and `z` is swapped, since you rarely want y and x to have different units.  `y=None` (the default) will copy the x unit to y.  We can put this into action easily when we do not care about wavelengths (e.g. for images):"
   ]
  },
  {
   "cell_type": "code",
   "execution_count": null,
   "metadata": {},
   "outputs": [],
   "source": [
    "unit_pack = Units(x=u.mm, z=u.nm)"
   ]
  },
  {
   "cell_type": "markdown",
   "metadata": {},
   "source": [
    "To include a wavelength, we need a unit that describes one wavelength of light.  To facilitate this, prysm includes a `mkwvl` function to make wavelengths of arbitrary size as well as a `wavelengths` sub-module populated with common laser wavelengths:"
   ]
  },
  {
   "cell_type": "code",
   "execution_count": null,
   "metadata": {},
   "outputs": [],
   "source": [
    "print('built-in wavelengths are:')\n",
    "print(wvl.__all__)\n",
    "\n",
    "telecon_wvl = wvl.mkwvl(1550, u.nm) # == mkwvl(1.55)\n",
    "\n",
    "telecom_unit_pack = Units(u.mm, u.m, wavelength=telecon_wvl) # note meters for z (phase)\n",
    "print('telecon unit pack\\t', telecom_unit_pack)"
   ]
  },
  {
   "cell_type": "markdown",
   "metadata": {},
   "source": [
    "these unit packs are threaded into prysm's object system with the `units` keyword argument:"
   ]
  },
  {
   "cell_type": "code",
   "execution_count": null,
   "metadata": {},
   "outputs": [],
   "source": [
    "z = NollZernike(Z25=1e-6, units=telecom_unit_pack)\n",
    "z.plot2d()  # units visible on plot"
   ]
  },
  {
   "cell_type": "markdown",
   "metadata": {},
   "source": [
    "The wavelength can be checked via its `represents` property if you lose track of what it is:"
   ]
  },
  {
   "cell_type": "code",
   "execution_count": null,
   "metadata": {},
   "outputs": [],
   "source": [
    "z.units.wavelength.represents"
   ]
  },
  {
   "cell_type": "markdown",
   "metadata": {},
   "source": [
    "Turning our attention to the labels on this plot, those too can be adjusted by creating a `Labels` object and passing it with the `labels` keyword argument:"
   ]
  },
  {
   "cell_type": "code",
   "execution_count": null,
   "metadata": {},
   "outputs": [],
   "source": [
    "label_pack = Labels(xy_base='Optical Table', z='Height',\n",
    "                    xy_additions=['exx', 'why'], xy_addition_side='left',\n",
    "                    addition_joiner=' space ', unit_prefix='>', unit_suffix='<',\n",
    "                    unit_joiner=' spaaaaace ')\n",
    "\n",
    "z = NollZernike(units=unit_pack, labels=label_pack)\n",
    "z.plot2d()"
   ]
  },
  {
   "cell_type": "markdown",
   "metadata": {},
   "source": [
    "Most of these have sensible defaults, a more reasonable usage would be:"
   ]
  },
  {
   "cell_type": "code",
   "execution_count": null,
   "metadata": {},
   "outputs": [],
   "source": [
    "label_pack = Labels(xy_base='Optical Table', z='Height')\n",
    "z = NollZernike(units=unit_pack, labels=label_pack)\n",
    "z.plot2d()"
   ]
  },
  {
   "cell_type": "markdown",
   "metadata": {},
   "source": [
    "Finally, across the library the default units and labels for the various classes can be controlled with the config class:"
   ]
  },
  {
   "cell_type": "code",
   "execution_count": null,
   "metadata": {},
   "outputs": [],
   "source": [
    "config_items = vars(config)\n",
    "for key in config_items:\n",
    "    if 'units' in key:\n",
    "        print(key, '\\t\\t', config_items[key])\n",
    "    elif 'labels' in key:\n",
    "        print(key, '\\t\\t', 'X/Y', config_items[key].xy_base, 'Z', config_items[key]._z)"
   ]
  }
 ],
 "metadata": {
  "kernelspec": {
   "display_name": "Python 3",
   "language": "python",
   "name": "python3"
  },
  "language_info": {
   "codemirror_mode": {
    "name": "ipython",
    "version": 3
   },
   "file_extension": ".py",
   "mimetype": "text/x-python",
   "name": "python",
   "nbconvert_exporter": "python",
   "pygments_lexer": "ipython3",
   "version": "3.7.3"
  }
 },
 "nbformat": 4,
 "nbformat_minor": 2
}
