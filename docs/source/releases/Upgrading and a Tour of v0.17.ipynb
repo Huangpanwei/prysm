{
 "cells": [
  {
   "cell_type": "markdown",
   "metadata": {},
   "source": [
    "# Upgrading and a Tour of v0.17\n",
    "\n",
    "This notebook provides a tour of prysm v0.17 and demonstrates the new features and updates made in this release.  It also serves as a guide to upgrading your code from v0.16 to v0.17.  In general, if you use prysm as an embedded modeling or analysis tool you probably need to make few to no changes and your code will still run and produce the same outputs.  One-off scripts will probably require changes.  In practical terms thsi really means your old scripts will need to be pinned to v0.16.1 and new scripts can use v0.17 since there is little reason to upgrade old single-use code.  This can be done by creating two virtual (or conda) environments with each version of prysm, and just activating the one containing prysm v0.16 if you need to look at your old code again (identifying it by looking at the last modified or created date).\n",
    "\n",
    "\n",
    "We begin as usual by importing a few things:"
   ]
  },
  {
   "cell_type": "code",
   "execution_count": null,
   "metadata": {},
   "outputs": [],
   "source": [
    "import numpy as np\n",
    "\n",
    "from prysm import sample_files, Interferogram, NollZernike, PSF, MTF, config\n",
    "\n",
    "\n",
    "from matplotlib import pyplot as plt\n",
    "%matplotlib inline"
   ]
  },
  {
   "cell_type": "markdown",
   "metadata": {},
   "source": [
    "The [release notes](./v0.17.html) for this release may make it seem like all of your code is broken by upgrading to this release.   Here we hope to quell some of that fear, and show that the core functionality of prysm still behaves the same (and is even a little bit faster).\n",
    "\n",
    "## Table of Contents\n",
    "\n",
    "- [Guide to Upgrading](#Guide-to-Upgrading)\n",
    "- [New Features](#New-Features)\n",
    "\n",
    "\n",
    "## Guide to Upgrading\n",
    "\n",
    "First up, propagations still work the same:"
   ]
  },
  {
   "cell_type": "code",
   "execution_count": null,
   "metadata": {},
   "outputs": [],
   "source": [
    "# this looks the same as it always has and causes no errors\n",
    "pu = NollZernike(np.random.rand(36) / 8, opd_unit='waves')  # opd_unit => z_unit (see warning)\n",
    "ps = PSF.from_pupil(pu, 2)\n",
    "mt = MTF.from_psf(ps)"
   ]
  },
  {
   "cell_type": "markdown",
   "metadata": {},
   "source": [
    "If you want to poke and prod at the data, you will encounter changes.  In prysm v0.16, you might have done something like this:"
   ]
  },
  {
   "cell_type": "code",
   "execution_count": null,
   "metadata": {},
   "outputs": [],
   "source": [
    "# visualize the pupil's OPD errors\n",
    "pu.plot2d(interpolation='nearest')  # still mostly works the same - some changes to arguments\n",
    "\n",
    "# visualize the PSF in 2D\n",
    "ps.plot2d(xlim=20, power=1/3)  # still mostly works the same- some changes to arguments\n",
    "\n",
    "# the 2D MTF, the same\n",
    "mt.plot2d()"
   ]
  },
  {
   "cell_type": "markdown",
   "metadata": {},
   "source": [
    "The changes here can be summarized as:\n",
    "\n",
    "- `interp_method` => `interpolation` in plot2d kwargs\n",
    "- `power` is passed directly through instead of being inverted first.  v0.16 `power=4` => v0.17 `power=1/4`.\n",
    "- `axlim` is no more on `PSF.plot2d()` - use independent `xlim` and `ylim` args.  `ylim` is adopted from `xlim` if `ylim == None`, and limits are symmetric single values are given, so `xlim=val` functions the same as how `axlim=val` did in v0.16.\n",
    "- some of the finessed plotting features on PSFs were not used, and work differently (using the `prysm.plotting` module to enhance the basic graphic)\n",
    "- the axis labels for MTF appear differently, due to the use of astropy.units"
   ]
  },
  {
   "cell_type": "markdown",
   "metadata": {},
   "source": [
    "On the upside, all three plot2d methods are identical (they are actually `RichData.plot2d()`) now, so there is no need to memorize the differing idiocyncracies of the various `plot2d` functions throughout prysm.  If you wanted to get at some 1D plots, things have also changed.\n",
    "\n",
    "You might want to slice the PSF:"
   ]
  },
  {
   "cell_type": "code",
   "execution_count": null,
   "metadata": {},
   "outputs": [],
   "source": [
    "# we're not going to do anything with this, just showing it still works for now\n",
    "x, val = ps.slice_x\n",
    "x, val = ps.slices().x  # this is the new syntax, still not going to do anything with this...\n",
    "\n",
    "# ps.plot_slice_xy()  # <- this will error and does not exist anymore\n",
    "ps.slices().plot(['x', 'y'], yscale='log', ylim=(1e-7,1e0))  # <- this is the new (equivalent) syntax\n",
    "# albeit with a little bit extra to do lot axes"
   ]
  },
  {
   "cell_type": "markdown",
   "metadata": {},
   "source": [
    "Or you probably want to look at the MTF in 1D:"
   ]
  },
  {
   "cell_type": "code",
   "execution_count": null,
   "metadata": {},
   "outputs": [],
   "source": [
    "# this won't run anymore\n",
    "# mt.plot_tan_sag()\n",
    "mt.slices().plot(['x', 'y'], xlim=(0,200)) # this is the new syntax\n",
    "\n",
    "# this warns for now, but will error in v0.18\n",
    "mt.tan  # not going to do anything with it...\n",
    "\n",
    "mt.exact_tan(200)  # ~0.5"
   ]
  },
  {
   "cell_type": "markdown",
   "metadata": {},
   "source": [
    "We won't show anything for plotting the pupil in 1D, since that is a fairly corner-case usage.  The changes are identical to the ones to `PSF`.  Of note is that:\n",
    "\n",
    "- much the same as with `plot2d`, 1D plotting (and access) is now univeral with a single API for all objects\n",
    "- `.slice_x` and `_y` if they existed now warn and point to the modern syntax\n",
    "- `.tan` and `.sag` do the same\n",
    "- `max_freq` is no more and is replaced with `xlim` under the universal plotting grammar"
   ]
  },
  {
   "cell_type": "markdown",
   "metadata": {},
   "source": [
    "Turning to working with interferometer data, we can load and touch up an interferogram the same as always:"
   ]
  },
  {
   "cell_type": "code",
   "execution_count": null,
   "metadata": {},
   "outputs": [],
   "source": [
    "i = Interferogram.from_zygo_dat(sample_files('dat'))\n",
    "i.crop().remove_piston_tiptilt_power()\n",
    "i.plot2d()\n",
    "i.fill()"
   ]
  },
  {
   "cell_type": "markdown",
   "metadata": {},
   "source": [
    "The only substantial changes here are to working with PSD and with plotting.  Plotting changes are the same as for above so we will not go over them.  For PSD in 2D:"
   ]
  },
  {
   "cell_type": "code",
   "execution_count": null,
   "metadata": {},
   "outputs": [],
   "source": [
    "# v0.16\n",
    "# ux, uy, psd = i.psd()\n",
    "\n",
    "# v0.17\n",
    "# PSD objects are descendants of RichData like anything else,\n",
    "# and `.psd` returns an object instead of the arrays themselves\n",
    "# the object brings PSD into the core vocabulary of the library\n",
    "psd = i.psd()\n",
    "ux, uy, psd_ = psd.x, psd.y, psd.data"
   ]
  },
  {
   "cell_type": "markdown",
   "metadata": {},
   "source": [
    "It is probably somewhat unusual that you want to directly access the arrays, but they're in the same place they are on any other prysm object.  If you wanted to plot in 2D:"
   ]
  },
  {
   "cell_type": "code",
   "execution_count": null,
   "metadata": {},
   "outputs": [],
   "source": [
    "# v0.16\n",
    "# i.plot_psd2d()\n",
    "\n",
    "# v0.17\n",
    "i.psd().plot2d(log=True)  # could use the psd object above, too..."
   ]
  },
  {
   "cell_type": "markdown",
   "metadata": {},
   "source": [
    "Or in 1D:"
   ]
  },
  {
   "cell_type": "code",
   "execution_count": null,
   "metadata": {},
   "outputs": [],
   "source": [
    "# v0.16\n",
    "# i.plot_psd_slices()\n",
    "\n",
    "# v0.17\n",
    "i.psd().slices().plot(['x', 'y', 'azavg'], invert_x=True, xlim=(100, 0.3))"
   ]
  },
  {
   "cell_type": "markdown",
   "metadata": {},
   "source": [
    "Applying PSD power laws is covered in the [user's guide](../user_guide/Interferograms.html)\n",
    "\n",
    "Direct access to the slices changes similarly:"
   ]
  },
  {
   "cell_type": "code",
   "execution_count": null,
   "metadata": {},
   "outputs": [],
   "source": [
    "# v0.16\n",
    "# i.psd_slices()['x'] or ['y'], etc\n",
    "\n",
    "# v0.17\n",
    "s = i.psd().slices()\n",
    "s.x, s.y; # and so on"
   ]
  },
  {
   "cell_type": "markdown",
   "metadata": {},
   "source": [
    "The changes here can be summarized as:\n",
    "\n",
    "- `.psd()` now returns an object instead of arrays.\n",
    "- Use that object as you would any othe prysm object to plot or interrogate slices\n",
    "- use `prysm.plotting` modifiers to add models to the PSD plots"
   ]
  },
  {
   "cell_type": "markdown",
   "metadata": {},
   "source": [
    "## New Features\n",
    "\n",
    "After much ado about the changes above, we now move on to the new features of the library.\n",
    "\n",
    "First we show the new analysis metrics for PSFs:"
   ]
  },
  {
   "cell_type": "code",
   "execution_count": null,
   "metadata": {},
   "outputs": [],
   "source": [
    "# FWHM, 1/e, 1/e^2\n",
    "ps.fwhm(), ps.one_over_e(), ps.one_over_e2()\n",
    "\n",
    "fig, ax = ps.slices(twosided=False).plot('x', xlim=(0,5))\n",
    "ax.axhline(0.5, c='k', ls=':')\n",
    "ax.axvline(ps.fwhm(), c='k', ls=':')"
   ]
  },
  {
   "cell_type": "markdown",
   "metadata": {},
   "source": [
    "Units are now farmed out to `astropy.units`, which means you can do things like the following:"
   ]
  },
  {
   "cell_type": "code",
   "execution_count": null,
   "metadata": {},
   "outputs": [],
   "source": [
    "from astropy import units as u\n",
    "\n",
    "pu2 = NollZernike(Z11=1, z_unit=u.um)\n",
    "pu2.plot2d()\n",
    "\n",
    "pu3 = NollZernike(Z6=1, z_unit=u.AA)\n",
    "print(pu3.z_unit)\n",
    "\n",
    "pu4 = NollZernike(Z3=1, z_unit='mm')  # prysm maps strings to astropy units for you\n",
    "print(pu4.z_unit)"
   ]
  },
  {
   "cell_type": "markdown",
   "metadata": {},
   "source": [
    "These are all properly converted when classes interact:"
   ]
  },
  {
   "cell_type": "code",
   "execution_count": null,
   "metadata": {},
   "outputs": [],
   "source": [
    "ps2 = PSF.from_pupil(pu2, 2)\n",
    "ps3 = PSF.from_pupil(pu3, 2)\n",
    "\n",
    "ps2.fwhm() > ps3.fwhm()  # 1 um of WFE is much blurrier than 1 angstrom"
   ]
  },
  {
   "cell_type": "markdown",
   "metadata": {},
   "source": [
    "Plotting now has a universal grammar as shown above, where all classes have the same `.plot2d()` and `.slices().plot()` functions.  Note that:\n",
    "\n",
    "- classes have a ._default_twosided cls attribute which controls whether the slices default to being twosided or one-sided.  The default value usually aligns with what you want, but you could change it either on a case-by-case basis in the argument to `.slices()`, or by overwriting the cls attribute.\n",
    "- azimuthal slices are inherently one sided and have minimum values of ~0 for the radial parameter `r`."
   ]
  },
  {
   "cell_type": "markdown",
   "metadata": {},
   "source": [
    "Two new Zernike formalisms are supported, `ANSI1TermZernike` and `ANSI2TermZernike`.  Both of these quack like the other Zernike classes, with the two-term option taking `A` and `B` coefficients (cosine / m+, sine / m-) that separate `n` and `m` by an underscore.  Each supports expansion up to arbitrary order (at least n > 1000 is tested) without numerical precision issues or other errors.\n",
    "\n",
    "They are implemented on top of recursive Jacobi polynomials and afford some speed benefit over the older Zernike implementation (2-3x for common orders, increasing with incresing order).  They are also cached just as the older Zernike implementation.  In v0.18, the older zernike implementation will be refactored to be based on this one."
   ]
  },
  {
   "cell_type": "code",
   "execution_count": null,
   "metadata": {},
   "outputs": [],
   "source": [
    "from prysm import ANSI1TermZernike, ANSI2TermZernike\n",
    "\n",
    "# some trefoil and 91-foil, As are cosines and Bs are sines\n",
    "pu = ANSI2TermZernike(A3_3=1, B91_91=1)\n",
    "pu.plot2d()"
   ]
  },
  {
   "cell_type": "code",
   "execution_count": null,
   "metadata": {},
   "outputs": [],
   "source": [
    "# 2000th zernike term!\n",
    "pu = ANSI1TermZernike(Z2000=1, samples=256)\n",
    "pu.plot2d(interpolation=None)"
   ]
  },
  {
   "cell_type": "code",
   "execution_count": null,
   "metadata": {},
   "outputs": [],
   "source": [
    "# free memory for QBFS and QCon examples\n",
    "ANSI1TermZernike._cache.clear()\n",
    "ANSI2TermZernike._cache.clear()"
   ]
  },
  {
   "cell_type": "markdown",
   "metadata": {},
   "source": [
    "Greg Forbes' Q polynomials are also implemented, again based on recursive Jacobi polynomials and supporting unlimited order:"
   ]
  },
  {
   "cell_type": "code",
   "execution_count": null,
   "metadata": {},
   "outputs": [],
   "source": [
    "from prysm import QCONSag, QBFSSag"
   ]
  },
  {
   "cell_type": "code",
   "execution_count": null,
   "metadata": {},
   "outputs": [],
   "source": [
    "pu = QCONSag(A1=1, A3=0.5, A15=0.1, A250=1, samples=1024)\n",
    "pu.slices(twosided=False).plot('x')"
   ]
  },
  {
   "cell_type": "code",
   "execution_count": null,
   "metadata": {},
   "outputs": [],
   "source": [
    "pu = QBFSSag(A15=1, samples=256)\n",
    "pu.slices(twosided=False).plot('x')"
   ]
  },
  {
   "cell_type": "code",
   "execution_count": null,
   "metadata": {},
   "outputs": [],
   "source": [
    "from time import perf_counter\n",
    "\n",
    "QBFSSag._cache.clear()\n",
    "times = []\n",
    "n_ = list(range(15))\n",
    "for n in n_:\n",
    "    t0 = perf_counter()\n",
    "    QBFSSag._cache(n, 128, 1)\n",
    "    t1 = perf_counter()\n",
    "    times.append(t1 - t0)"
   ]
  },
  {
   "cell_type": "code",
   "execution_count": null,
   "metadata": {},
   "outputs": [],
   "source": [
    "plt.plot(n_, times)"
   ]
  },
  {
   "cell_type": "code",
   "execution_count": null,
   "metadata": {},
   "outputs": [],
   "source": [
    "QBFSSag._cache.Ps.keys()"
   ]
  },
  {
   "cell_type": "code",
   "execution_count": null,
   "metadata": {},
   "outputs": [],
   "source": [
    "from pathlib import Path\n",
    "\n",
    "import pandas as pd"
   ]
  },
  {
   "cell_type": "code",
   "execution_count": null,
   "metadata": {},
   "outputs": [],
   "source": [
    "p = Path('~/Downloads/activity.csv')\n",
    "df = pd.read_csv(p.expanduser())"
   ]
  },
  {
   "cell_type": "code",
   "execution_count": null,
   "metadata": {},
   "outputs": [],
   "source": [
    "df[df.Description == 'CULINART GROUP'].Amount.sum()"
   ]
  },
  {
   "cell_type": "code",
   "execution_count": null,
   "metadata": {},
   "outputs": [],
   "source": []
  }
 ],
 "metadata": {
  "kernelspec": {
   "display_name": "Python 3",
   "language": "python",
   "name": "python3"
  },
  "language_info": {
   "codemirror_mode": {
    "name": "ipython",
    "version": 3
   },
   "file_extension": ".py",
   "mimetype": "text/x-python",
   "name": "python",
   "nbconvert_exporter": "python",
   "pygments_lexer": "ipython3",
   "version": "3.7.4"
  }
 },
 "nbformat": 4,
 "nbformat_minor": 2
}
