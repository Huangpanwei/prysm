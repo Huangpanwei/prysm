{
 "cells": [
  {
   "cell_type": "markdown",
   "metadata": {},
   "source": [
    "# System Modeling\n",
    "\n",
    "In this example we will see how to model an end-to-end optical system using prysm. Our system will have both an objective lens or telescope as well as a sensor with an optical low-pass filter. We begin by importing the relevant classes and setting some visual styles:"
   ]
  },
  {
   "cell_type": "code",
   "execution_count": null,
   "metadata": {},
   "outputs": [],
   "source": [
    "from prysm import FringeZernike, PSF, MTF, PixelAperture, OLPF\n",
    "from matplotlib import pyplot as plt\n",
    "plt.style.use('bmh')"
   ]
  },
  {
   "cell_type": "markdown",
   "metadata": {},
   "source": [
    "Next we model the PSF of the objective, given its aperture, focal length, and Zernike coefficients for its wavefront, such as from a Shack-Hartmann sensor or interferometer:"
   ]
  },
  {
   "cell_type": "code",
   "execution_count": null,
   "metadata": {},
   "outputs": [],
   "source": [
    "# data from a wavefront sensor, optical design program, etc...\n",
    "zernikes = [0, 0, 0, 0, 0.125, 0.125, -0.05, -0.05, 0.2]\n",
    "\n",
    "# a pentagonal aperture inscribed in a square 10mm on a side with 50mm EFL\n",
    "pupil = FringeZernike(zernikes, dia=10, mask='pentagon', opd_unit='um', norm=True)\n",
    "psf = PSF.from_pupil(pupil, efl=50)"
   ]
  },
  {
   "cell_type": "markdown",
   "metadata": {},
   "source": [
    "Here we have implicitly accepted the default wavelength of 0.5 microns, and Q factor of 2 (Nyquist sampling) which are usually sane defaults. The pupil is pentagonal in shape and is sufficiently described by a Zernike expansion up to Z9.\n",
    "\n",
    "We can plot the wavefront or PSF of the objective.  The wavefront will appear to not quite fill the array, but this is just an artifact of the default lanczos interpolation and relatively few samples."
   ]
  },
  {
   "cell_type": "code",
   "execution_count": null,
   "metadata": {},
   "outputs": [],
   "source": [
    "fig, ax = pupil.plot2d()\n",
    "ax.grid(False)\n",
    "ax.set_title('Wavefront')\n",
    "\n",
    "fig, ax = psf.plot2d(axlim=25, power=2)  # 1/2 stretch, colorbar scales as well.\n",
    "ax.grid(False)\n",
    "ax.set_title('PSF');"
   ]
  },
  {
   "cell_type": "markdown",
   "metadata": {},
   "source": [
    "or compute its MTF.  Note that \"tan\" and \"sag\" here accept the assumption of optical design code that we are looking at an object extended in Y, with no extent in X.  For example, this means we could be at an (x,y) field point of (1, 0) degrees.  On-axis, tan and sag are simply misgnomers for the \"x\" and \"y\" MTFs."
   ]
  },
  {
   "cell_type": "code",
   "execution_count": null,
   "metadata": {},
   "outputs": [],
   "source": [
    "mtf = MTF.from_psf(psf)\n",
    "mtf.plot_tan_sag(max_freq=100)"
   ]
  },
  {
   "cell_type": "code",
   "execution_count": null,
   "metadata": {},
   "outputs": [],
   "source": [
    "pixel_pitch = 5  # 5 micron pixels\n",
    "aa_filter = OLPF(pixel_pitch*0.66)\n",
    "pixel = PixelAperture(pixel_pitch)\n",
    "sys_psf = psf.conv(aa_filter).conv(pixel)"
   ]
  },
  {
   "cell_type": "markdown",
   "metadata": {},
   "source": [
    "We can plot the system PSF, which is abstract since it includes the pixel aperture.  You would not normally look at this, but prysm doesn't stop you from doing that."
   ]
  },
  {
   "cell_type": "code",
   "execution_count": null,
   "metadata": {},
   "outputs": [],
   "source": [
    "sys_psf.show(xlim=25)  # sys_psf is a Convolvable, not a PSF.\n",
    "plt.grid(False)"
   ]
  },
  {
   "cell_type": "code",
   "execution_count": null,
   "metadata": {},
   "outputs": [],
   "source": [
    "sys_mtf = MTF.from_psf(sys_psf)\n",
    "sys_mtf.plot_tan_sag(max_freq=100)"
   ]
  },
  {
   "cell_type": "markdown",
   "metadata": {},
   "source": [
    "For more information on the classes used, see `Zernikes <../user_guide/zernikes>`_, `PSFs <../user_guide/psfs>`_, `MTFs <../user_guide/mtfs>`_, and `PixelApertures, OLPFs, and convolutions <../user_guide/convolvables>`_."
   ]
  },
  {
   "cell_type": "code",
   "execution_count": null,
   "metadata": {},
   "outputs": [],
   "source": [
    "psf.conv(pixel).show(xlim=25, interp_method='lanczos', power=2)\n",
    "#psf.show(xlim=25, interp_method='lanczos')\n",
    "plt.grid(False)"
   ]
  }
 ],
 "metadata": {
  "kernelspec": {
   "display_name": "Python 3",
   "language": "python",
   "name": "python3"
  },
  "language_info": {
   "codemirror_mode": {
    "name": "ipython",
    "version": 3
   },
   "file_extension": ".py",
   "mimetype": "text/x-python",
   "name": "python",
   "nbconvert_exporter": "python",
   "pygments_lexer": "ipython3",
   "version": "3.7.2"
  }
 },
 "nbformat": 4,
 "nbformat_minor": 2
}
